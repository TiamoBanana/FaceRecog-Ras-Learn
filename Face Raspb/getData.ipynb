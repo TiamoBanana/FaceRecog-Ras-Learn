{
 "cells": [
  {
   "cell_type": "code",
   "execution_count": 1,
   "id": "5f9d7b56",
   "metadata": {},
   "outputs": [],
   "source": [
    "import cv2\n",
    "import numpy as np\n",
    "import sqlite3\n",
    "import os"
   ]
  },
  {
   "cell_type": "code",
   "execution_count": 2,
   "id": "e2727716",
   "metadata": {},
   "outputs": [
    {
     "name": "stdout",
     "output_type": "stream",
     "text": [
      "Existing Data:\n",
      "\n",
      " ID | Name\n",
      "(1, 'khoi')\n",
      "(2, '22222')\n",
      "(3, '3333')\n",
      "(4, '44444')\n",
      "(5, '5555')\n",
      "(6, '6666')\n",
      "(7, '777')\n",
      "(8, '888')\n",
      "(9, '99')\n",
      "(10, '1000')\n",
      "\n",
      "Enter your ID (from 1 to 5): 1\n",
      "Enter your name: khoi\n"
     ]
    }
   ],
   "source": [
    "def insertOrUpdate(id, name):\n",
    "    conn = sqlite3.connect('data.db')\n",
    "    \n",
    "    query = \"SELECT *FROM people WHERE ID =\" + str(id)\n",
    "    cursor = conn.execute(query)\n",
    "    \n",
    "    isRecordExist = 0\n",
    "    \n",
    "    for row in cursor:\n",
    "        isRecordExist = 1\n",
    "    \n",
    "    if(isRecordExist == 0):\n",
    "        query = \"INSERT INTO people(ID, Name) VALUES(\"+str(id)+\",'\"+ str(name)+ \"')\"\n",
    "    else:\n",
    "        query = \"UPDATE people SET Name='\"+str(name)+\"' WHERE ID=\"+ str(id)\n",
    "    \n",
    "    conn.execute(query)\n",
    "    conn.commit()\n",
    "    conn.close()\n",
    "\n",
    "#Load lib\n",
    "face_cascade = cv2.CascadeClassifier(cv2.samples.findFile(cv2.data.haarcascades + 'haarcascade_frontalface_default.xml'))\n",
    "cap = cv2.VideoCapture(0)\n",
    "print(\"Existing Data:\")\n",
    "print()\n",
    "print(\" ID\",\"| Name\")\n",
    "conn = sqlite3.connect('data.db')\n",
    "for i in range (1, 11):\n",
    "    query = \"SELECT * FROM people WHERE ID =\" + str(i)\n",
    "    cursor = conn.execute(query)\n",
    "    for row in cursor:\n",
    "        print(row)\n",
    "print()\n",
    "\n",
    "#insert data\n",
    "id = input(\"Enter your ID (from 1 to 5): \")\n",
    "\n",
    "while((int(id) > 10) | (int(id) < 1) ):\n",
    "    id = input(\"Enter your ID again:\")\n",
    "\n",
    "name = input(\"Enter your name: \")\n",
    "insertOrUpdate(id, name)\n",
    "\n",
    "sampleNum = 1\n",
    "\n",
    "while(True):\n",
    "    ret, frame = cap.read()\n",
    "    \n",
    "    gray = cv2.cvtColor(frame, cv2.COLOR_BGR2GRAY)\n",
    "    \n",
    "    faces = face_cascade.detectMultiScale(gray, 1.3, 5, minSize=(100,100))\n",
    "    \n",
    "    for(x, y, w, h) in faces:\n",
    "        cv2.rectangle(frame, (x,y), (x+w, y+h), (0, 255, 0), 2)\n",
    "        \n",
    "        if not os.path.exists('dataset'):\n",
    "            os.makedirs('dataset')\n",
    "        \n",
    "        cv2.imwrite('dataset/User.'+str(id)+'.'+ str(sampleNum)+ '.jpg', cv2.resize(gray[y: y+h, x: x+w], (256,256)))\n",
    "        \n",
    "        sampleNum +=1\n",
    "    \n",
    "    cv2.imshow('frame', frame)\n",
    "    cv2.waitKey(1)\n",
    "    \n",
    "    if sampleNum > 500:\n",
    "        break\n",
    "\n",
    "cap.release()\n",
    "cv2.destroyAllWindows()\n",
    "        "
   ]
  },
  {
   "cell_type": "code",
   "execution_count": null,
   "id": "33d9ff38",
   "metadata": {},
   "outputs": [],
   "source": []
  }
 ],
 "metadata": {
  "kernelspec": {
   "display_name": "Python 3 (ipykernel)",
   "language": "python",
   "name": "python3"
  },
  "language_info": {
   "codemirror_mode": {
    "name": "ipython",
    "version": 3
   },
   "file_extension": ".py",
   "mimetype": "text/x-python",
   "name": "python",
   "nbconvert_exporter": "python",
   "pygments_lexer": "ipython3",
   "version": "3.11.3"
  }
 },
 "nbformat": 4,
 "nbformat_minor": 5
}
